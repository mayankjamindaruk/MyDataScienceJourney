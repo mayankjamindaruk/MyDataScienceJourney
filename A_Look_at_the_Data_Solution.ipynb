{
  "nbformat": 4,
  "nbformat_minor": 0,
  "metadata": {
    "kernelspec": {
      "display_name": "Python 3",
      "language": "python",
      "name": "python3"
    },
    "language_info": {
      "codemirror_mode": {
        "name": "ipython",
        "version": 3
      },
      "file_extension": ".py",
      "mimetype": "text/x-python",
      "name": "python",
      "nbconvert_exporter": "python",
      "pygments_lexer": "ipython3",
      "version": "3.6.3"
    },
    "colab": {
      "name": "A Look at the Data - Solution.ipynb",
      "provenance": [],
      "toc_visible": true,
      "include_colab_link": true
    }
  },
  "cells": [
    {
      "cell_type": "markdown",
      "metadata": {
        "id": "view-in-github",
        "colab_type": "text"
      },
      "source": [
        "<a href=\"https://colab.research.google.com/github/mayankjamindaruk/MyDataScienceJourney/blob/main/A_Look_at_the_Data_Solution.ipynb\" target=\"_parent\"><img src=\"https://colab.research.google.com/assets/colab-badge.svg\" alt=\"Open In Colab\"/></a>"
      ]
    },
    {
      "cell_type": "markdown",
      "metadata": {
        "id": "p6fv56R41DoJ"
      },
      "source": [
        "\n",
        "\n",
        "\n",
        "\n",
        "\n",
        "\n",
        "\n",
        "<h2 id='part1'>A Look at the Data</h2>\n",
        "\n",
        "In order to get a better understanding of the data we will be looking at throughout this lesson, let's take a look at some of the characteristics of the dataset.\n",
        "\n",
        "First, let's read in the data and necessary libraries."
      ]
    },
    {
      "cell_type": "code",
      "metadata": {
        "colab": {
          "base_uri": "https://localhost:8080/",
          "height": 546
        },
        "id": "ngIYWpZt1Doc",
        "outputId": "2f4c0eb7-5314-4711-b3cf-569fa2e31327"
      },
      "source": [
        "import numpy as np\n",
        "import pandas as pd\n",
        "import matplotlib.pyplot as plt\n",
        "import ALookAtTheData as t\n",
        "%matplotlib inline\n",
        "\n",
        "df = pd.read_csv('survey_results_public.csv')\n",
        "df.head()"
      ],
      "execution_count": null,
      "outputs": [
        {
          "output_type": "execute_result",
          "data": {
            "text/html": [
              "<div>\n",
              "<style scoped>\n",
              "    .dataframe tbody tr th:only-of-type {\n",
              "        vertical-align: middle;\n",
              "    }\n",
              "\n",
              "    .dataframe tbody tr th {\n",
              "        vertical-align: top;\n",
              "    }\n",
              "\n",
              "    .dataframe thead th {\n",
              "        text-align: right;\n",
              "    }\n",
              "</style>\n",
              "<table border=\"1\" class=\"dataframe\">\n",
              "  <thead>\n",
              "    <tr style=\"text-align: right;\">\n",
              "      <th></th>\n",
              "      <th>Respondent</th>\n",
              "      <th>Professional</th>\n",
              "      <th>ProgramHobby</th>\n",
              "      <th>Country</th>\n",
              "      <th>University</th>\n",
              "      <th>EmploymentStatus</th>\n",
              "      <th>FormalEducation</th>\n",
              "      <th>MajorUndergrad</th>\n",
              "      <th>HomeRemote</th>\n",
              "      <th>CompanySize</th>\n",
              "      <th>CompanyType</th>\n",
              "      <th>YearsProgram</th>\n",
              "      <th>YearsCodedJob</th>\n",
              "      <th>YearsCodedJobPast</th>\n",
              "      <th>DeveloperType</th>\n",
              "      <th>WebDeveloperType</th>\n",
              "      <th>MobileDeveloperType</th>\n",
              "      <th>NonDeveloperType</th>\n",
              "      <th>CareerSatisfaction</th>\n",
              "      <th>JobSatisfaction</th>\n",
              "      <th>ExCoderReturn</th>\n",
              "      <th>ExCoderNotForMe</th>\n",
              "      <th>ExCoderBalance</th>\n",
              "      <th>ExCoder10Years</th>\n",
              "      <th>ExCoderBelonged</th>\n",
              "      <th>ExCoderSkills</th>\n",
              "      <th>ExCoderWillNotCode</th>\n",
              "      <th>ExCoderActive</th>\n",
              "      <th>PronounceGIF</th>\n",
              "      <th>ProblemSolving</th>\n",
              "      <th>BuildingThings</th>\n",
              "      <th>LearningNewTech</th>\n",
              "      <th>BoringDetails</th>\n",
              "      <th>JobSecurity</th>\n",
              "      <th>DiversityImportant</th>\n",
              "      <th>AnnoyingUI</th>\n",
              "      <th>FriendsDevelopers</th>\n",
              "      <th>RightWrongWay</th>\n",
              "      <th>UnderstandComputers</th>\n",
              "      <th>SeriousWork</th>\n",
              "      <th>...</th>\n",
              "      <th>InfluenceInternet</th>\n",
              "      <th>InfluenceWorkstation</th>\n",
              "      <th>InfluenceHardware</th>\n",
              "      <th>InfluenceServers</th>\n",
              "      <th>InfluenceTechStack</th>\n",
              "      <th>InfluenceDeptTech</th>\n",
              "      <th>InfluenceVizTools</th>\n",
              "      <th>InfluenceDatabase</th>\n",
              "      <th>InfluenceCloud</th>\n",
              "      <th>InfluenceConsultants</th>\n",
              "      <th>InfluenceRecruitment</th>\n",
              "      <th>InfluenceCommunication</th>\n",
              "      <th>StackOverflowDescribes</th>\n",
              "      <th>StackOverflowSatisfaction</th>\n",
              "      <th>StackOverflowDevices</th>\n",
              "      <th>StackOverflowFoundAnswer</th>\n",
              "      <th>StackOverflowCopiedCode</th>\n",
              "      <th>StackOverflowJobListing</th>\n",
              "      <th>StackOverflowCompanyPage</th>\n",
              "      <th>StackOverflowJobSearch</th>\n",
              "      <th>StackOverflowNewQuestion</th>\n",
              "      <th>StackOverflowAnswer</th>\n",
              "      <th>StackOverflowMetaChat</th>\n",
              "      <th>StackOverflowAdsRelevant</th>\n",
              "      <th>StackOverflowAdsDistracting</th>\n",
              "      <th>StackOverflowModeration</th>\n",
              "      <th>StackOverflowCommunity</th>\n",
              "      <th>StackOverflowHelpful</th>\n",
              "      <th>StackOverflowBetter</th>\n",
              "      <th>StackOverflowWhatDo</th>\n",
              "      <th>StackOverflowMakeMoney</th>\n",
              "      <th>Gender</th>\n",
              "      <th>HighestEducationParents</th>\n",
              "      <th>Race</th>\n",
              "      <th>SurveyLong</th>\n",
              "      <th>QuestionsInteresting</th>\n",
              "      <th>QuestionsConfusing</th>\n",
              "      <th>InterestedAnswers</th>\n",
              "      <th>Salary</th>\n",
              "      <th>ExpectedSalary</th>\n",
              "    </tr>\n",
              "  </thead>\n",
              "  <tbody>\n",
              "    <tr>\n",
              "      <th>0</th>\n",
              "      <td>1</td>\n",
              "      <td>Student</td>\n",
              "      <td>Yes, both</td>\n",
              "      <td>United States</td>\n",
              "      <td>No</td>\n",
              "      <td>Not employed, and not looking for work</td>\n",
              "      <td>Secondary school</td>\n",
              "      <td>NaN</td>\n",
              "      <td>NaN</td>\n",
              "      <td>NaN</td>\n",
              "      <td>NaN</td>\n",
              "      <td>2 to 3 years</td>\n",
              "      <td>NaN</td>\n",
              "      <td>NaN</td>\n",
              "      <td>NaN</td>\n",
              "      <td>NaN</td>\n",
              "      <td>NaN</td>\n",
              "      <td>NaN</td>\n",
              "      <td>NaN</td>\n",
              "      <td>NaN</td>\n",
              "      <td>NaN</td>\n",
              "      <td>NaN</td>\n",
              "      <td>NaN</td>\n",
              "      <td>NaN</td>\n",
              "      <td>NaN</td>\n",
              "      <td>NaN</td>\n",
              "      <td>NaN</td>\n",
              "      <td>NaN</td>\n",
              "      <td>With a soft \"g,\" like \"jiff\"</td>\n",
              "      <td>Strongly agree</td>\n",
              "      <td>Strongly agree</td>\n",
              "      <td>Agree</td>\n",
              "      <td>Disagree</td>\n",
              "      <td>Strongly agree</td>\n",
              "      <td>Agree</td>\n",
              "      <td>Agree</td>\n",
              "      <td>Disagree</td>\n",
              "      <td>Somewhat agree</td>\n",
              "      <td>Disagree</td>\n",
              "      <td>Strongly agree</td>\n",
              "      <td>...</td>\n",
              "      <td>Not very satisfied</td>\n",
              "      <td>NaN</td>\n",
              "      <td>NaN</td>\n",
              "      <td>NaN</td>\n",
              "      <td>NaN</td>\n",
              "      <td>NaN</td>\n",
              "      <td>NaN</td>\n",
              "      <td>NaN</td>\n",
              "      <td>NaN</td>\n",
              "      <td>NaN</td>\n",
              "      <td>NaN</td>\n",
              "      <td>NaN</td>\n",
              "      <td>I have created a CV or Developer Story on Stac...</td>\n",
              "      <td>9.0</td>\n",
              "      <td>Desktop; iOS app</td>\n",
              "      <td>At least once each week</td>\n",
              "      <td>Haven't done at all</td>\n",
              "      <td>Once or twice</td>\n",
              "      <td>Haven't done at all</td>\n",
              "      <td>Haven't done at all</td>\n",
              "      <td>Several times</td>\n",
              "      <td>Several times</td>\n",
              "      <td>Once or twice</td>\n",
              "      <td>Somewhat agree</td>\n",
              "      <td>Strongly disagree</td>\n",
              "      <td>Strongly disagree</td>\n",
              "      <td>Strongly agree</td>\n",
              "      <td>Agree</td>\n",
              "      <td>Strongly agree</td>\n",
              "      <td>Strongly agree</td>\n",
              "      <td>Strongly disagree</td>\n",
              "      <td>Male</td>\n",
              "      <td>High school</td>\n",
              "      <td>White or of European descent</td>\n",
              "      <td>Strongly disagree</td>\n",
              "      <td>Strongly agree</td>\n",
              "      <td>Disagree</td>\n",
              "      <td>Strongly agree</td>\n",
              "      <td>NaN</td>\n",
              "      <td>NaN</td>\n",
              "    </tr>\n",
              "    <tr>\n",
              "      <th>1</th>\n",
              "      <td>2</td>\n",
              "      <td>Student</td>\n",
              "      <td>Yes, both</td>\n",
              "      <td>United Kingdom</td>\n",
              "      <td>Yes, full-time</td>\n",
              "      <td>Employed part-time</td>\n",
              "      <td>Some college/university study without earning ...</td>\n",
              "      <td>Computer science or software engineering</td>\n",
              "      <td>More than half, but not all, the time</td>\n",
              "      <td>20 to 99 employees</td>\n",
              "      <td>Privately-held limited company, not in startup...</td>\n",
              "      <td>9 to 10 years</td>\n",
              "      <td>NaN</td>\n",
              "      <td>NaN</td>\n",
              "      <td>NaN</td>\n",
              "      <td>NaN</td>\n",
              "      <td>NaN</td>\n",
              "      <td>NaN</td>\n",
              "      <td>NaN</td>\n",
              "      <td>NaN</td>\n",
              "      <td>NaN</td>\n",
              "      <td>NaN</td>\n",
              "      <td>NaN</td>\n",
              "      <td>NaN</td>\n",
              "      <td>NaN</td>\n",
              "      <td>NaN</td>\n",
              "      <td>NaN</td>\n",
              "      <td>NaN</td>\n",
              "      <td>With a hard \"g,\" like \"gift\"</td>\n",
              "      <td>NaN</td>\n",
              "      <td>NaN</td>\n",
              "      <td>NaN</td>\n",
              "      <td>NaN</td>\n",
              "      <td>NaN</td>\n",
              "      <td>NaN</td>\n",
              "      <td>NaN</td>\n",
              "      <td>NaN</td>\n",
              "      <td>NaN</td>\n",
              "      <td>NaN</td>\n",
              "      <td>NaN</td>\n",
              "      <td>...</td>\n",
              "      <td>Satisfied</td>\n",
              "      <td>No influence at all</td>\n",
              "      <td>No influence at all</td>\n",
              "      <td>No influence at all</td>\n",
              "      <td>No influence at all</td>\n",
              "      <td>No influence at all</td>\n",
              "      <td>No influence at all</td>\n",
              "      <td>No influence at all</td>\n",
              "      <td>No influence at all</td>\n",
              "      <td>No influence at all</td>\n",
              "      <td>No influence at all</td>\n",
              "      <td>No influence at all</td>\n",
              "      <td>I have created a CV or Developer Story on Stac...</td>\n",
              "      <td>8.0</td>\n",
              "      <td>Desktop; iOS browser; iOS app; Android browser...</td>\n",
              "      <td>Several times</td>\n",
              "      <td>Several times</td>\n",
              "      <td>Once or twice</td>\n",
              "      <td>Once or twice</td>\n",
              "      <td>Once or twice</td>\n",
              "      <td>Haven't done at all</td>\n",
              "      <td>Several times</td>\n",
              "      <td>At least once each week</td>\n",
              "      <td>Disagree</td>\n",
              "      <td>Strongly disagree</td>\n",
              "      <td>Strongly disagree</td>\n",
              "      <td>Strongly agree</td>\n",
              "      <td>Agree</td>\n",
              "      <td>Strongly agree</td>\n",
              "      <td>Strongly agree</td>\n",
              "      <td>Strongly disagree</td>\n",
              "      <td>Male</td>\n",
              "      <td>A master's degree</td>\n",
              "      <td>White or of European descent</td>\n",
              "      <td>Somewhat agree</td>\n",
              "      <td>Somewhat agree</td>\n",
              "      <td>Disagree</td>\n",
              "      <td>Strongly agree</td>\n",
              "      <td>NaN</td>\n",
              "      <td>37500.0</td>\n",
              "    </tr>\n",
              "    <tr>\n",
              "      <th>2</th>\n",
              "      <td>3</td>\n",
              "      <td>Professional developer</td>\n",
              "      <td>Yes, both</td>\n",
              "      <td>United Kingdom</td>\n",
              "      <td>No</td>\n",
              "      <td>Employed full-time</td>\n",
              "      <td>Bachelor's degree</td>\n",
              "      <td>Computer science or software engineering</td>\n",
              "      <td>Less than half the time, but at least one day ...</td>\n",
              "      <td>10,000 or more employees</td>\n",
              "      <td>Publicly-traded corporation</td>\n",
              "      <td>20 or more years</td>\n",
              "      <td>20 or more years</td>\n",
              "      <td>NaN</td>\n",
              "      <td>Other</td>\n",
              "      <td>NaN</td>\n",
              "      <td>NaN</td>\n",
              "      <td>NaN</td>\n",
              "      <td>8.0</td>\n",
              "      <td>9.0</td>\n",
              "      <td>NaN</td>\n",
              "      <td>NaN</td>\n",
              "      <td>NaN</td>\n",
              "      <td>NaN</td>\n",
              "      <td>NaN</td>\n",
              "      <td>NaN</td>\n",
              "      <td>NaN</td>\n",
              "      <td>NaN</td>\n",
              "      <td>With a hard \"g,\" like \"gift\"</td>\n",
              "      <td>Strongly agree</td>\n",
              "      <td>Strongly agree</td>\n",
              "      <td>Strongly agree</td>\n",
              "      <td>Somewhat agree</td>\n",
              "      <td>Agree</td>\n",
              "      <td>Strongly agree</td>\n",
              "      <td>Agree</td>\n",
              "      <td>Somewhat agree</td>\n",
              "      <td>Disagree</td>\n",
              "      <td>Disagree</td>\n",
              "      <td>Agree</td>\n",
              "      <td>...</td>\n",
              "      <td>Very satisfied</td>\n",
              "      <td>A lot of influence</td>\n",
              "      <td>Some influence</td>\n",
              "      <td>Some influence</td>\n",
              "      <td>Some influence</td>\n",
              "      <td>A lot of influence</td>\n",
              "      <td>Some influence</td>\n",
              "      <td>Some influence</td>\n",
              "      <td>Some influence</td>\n",
              "      <td>Some influence</td>\n",
              "      <td>Some influence</td>\n",
              "      <td>Some influence</td>\n",
              "      <td>I have created a CV or Developer Story on Stac...</td>\n",
              "      <td>8.0</td>\n",
              "      <td>Desktop; iOS browser; iOS app</td>\n",
              "      <td>Once or twice</td>\n",
              "      <td>Haven't done at all</td>\n",
              "      <td>Haven't done at all</td>\n",
              "      <td>Haven't done at all</td>\n",
              "      <td>Haven't done at all</td>\n",
              "      <td>Haven't done at all</td>\n",
              "      <td>At least once each day</td>\n",
              "      <td>At least once each day</td>\n",
              "      <td>Disagree</td>\n",
              "      <td>Disagree</td>\n",
              "      <td>Strongly disagree</td>\n",
              "      <td>Strongly agree</td>\n",
              "      <td>Agree</td>\n",
              "      <td>Agree</td>\n",
              "      <td>Agree</td>\n",
              "      <td>Disagree</td>\n",
              "      <td>Male</td>\n",
              "      <td>A professional degree</td>\n",
              "      <td>White or of European descent</td>\n",
              "      <td>Somewhat agree</td>\n",
              "      <td>Agree</td>\n",
              "      <td>Disagree</td>\n",
              "      <td>Agree</td>\n",
              "      <td>113750.0</td>\n",
              "      <td>NaN</td>\n",
              "    </tr>\n",
              "    <tr>\n",
              "      <th>3</th>\n",
              "      <td>4</td>\n",
              "      <td>Professional non-developer who sometimes write...</td>\n",
              "      <td>Yes, both</td>\n",
              "      <td>United States</td>\n",
              "      <td>No</td>\n",
              "      <td>Employed full-time</td>\n",
              "      <td>Doctoral degree</td>\n",
              "      <td>A non-computer-focused engineering discipline</td>\n",
              "      <td>Less than half the time, but at least one day ...</td>\n",
              "      <td>10,000 or more employees</td>\n",
              "      <td>Non-profit/non-governmental organization or pr...</td>\n",
              "      <td>14 to 15 years</td>\n",
              "      <td>9 to 10 years</td>\n",
              "      <td>NaN</td>\n",
              "      <td>NaN</td>\n",
              "      <td>NaN</td>\n",
              "      <td>NaN</td>\n",
              "      <td>Data scientist</td>\n",
              "      <td>6.0</td>\n",
              "      <td>3.0</td>\n",
              "      <td>NaN</td>\n",
              "      <td>NaN</td>\n",
              "      <td>NaN</td>\n",
              "      <td>NaN</td>\n",
              "      <td>NaN</td>\n",
              "      <td>NaN</td>\n",
              "      <td>NaN</td>\n",
              "      <td>NaN</td>\n",
              "      <td>With a soft \"g,\" like \"jiff\"</td>\n",
              "      <td>Strongly agree</td>\n",
              "      <td>Strongly agree</td>\n",
              "      <td>Strongly agree</td>\n",
              "      <td>Disagree</td>\n",
              "      <td>Somewhat agree</td>\n",
              "      <td>Agree</td>\n",
              "      <td>Agree</td>\n",
              "      <td>Agree</td>\n",
              "      <td>Somewhat agree</td>\n",
              "      <td>Strongly disagree</td>\n",
              "      <td>Strongly agree</td>\n",
              "      <td>...</td>\n",
              "      <td>NaN</td>\n",
              "      <td>NaN</td>\n",
              "      <td>NaN</td>\n",
              "      <td>NaN</td>\n",
              "      <td>NaN</td>\n",
              "      <td>NaN</td>\n",
              "      <td>NaN</td>\n",
              "      <td>NaN</td>\n",
              "      <td>NaN</td>\n",
              "      <td>NaN</td>\n",
              "      <td>NaN</td>\n",
              "      <td>NaN</td>\n",
              "      <td>I have created a CV or Developer Story on Stac...</td>\n",
              "      <td>10.0</td>\n",
              "      <td>Desktop; iOS browser; iOS app</td>\n",
              "      <td>At least once each week</td>\n",
              "      <td>Several times</td>\n",
              "      <td>At least once each week</td>\n",
              "      <td>Several times</td>\n",
              "      <td>At least once each week</td>\n",
              "      <td>Several times</td>\n",
              "      <td>At least once each day</td>\n",
              "      <td>At least once each day</td>\n",
              "      <td>Agree</td>\n",
              "      <td>Strongly disagree</td>\n",
              "      <td>Strongly disagree</td>\n",
              "      <td>Strongly agree</td>\n",
              "      <td>Strongly agree</td>\n",
              "      <td>Agree</td>\n",
              "      <td>Strongly agree</td>\n",
              "      <td>Disagree</td>\n",
              "      <td>Male</td>\n",
              "      <td>A doctoral degree</td>\n",
              "      <td>White or of European descent</td>\n",
              "      <td>Agree</td>\n",
              "      <td>Agree</td>\n",
              "      <td>Somewhat agree</td>\n",
              "      <td>Strongly agree</td>\n",
              "      <td>NaN</td>\n",
              "      <td>NaN</td>\n",
              "    </tr>\n",
              "    <tr>\n",
              "      <th>4</th>\n",
              "      <td>5</td>\n",
              "      <td>Professional developer</td>\n",
              "      <td>Yes, I program as a hobby</td>\n",
              "      <td>Switzerland</td>\n",
              "      <td>No</td>\n",
              "      <td>Employed full-time</td>\n",
              "      <td>Master's degree</td>\n",
              "      <td>Computer science or software engineering</td>\n",
              "      <td>Never</td>\n",
              "      <td>10 to 19 employees</td>\n",
              "      <td>Privately-held limited company, not in startup...</td>\n",
              "      <td>20 or more years</td>\n",
              "      <td>10 to 11 years</td>\n",
              "      <td>NaN</td>\n",
              "      <td>Mobile developer; Graphics programming; Deskto...</td>\n",
              "      <td>NaN</td>\n",
              "      <td>NaN</td>\n",
              "      <td>NaN</td>\n",
              "      <td>6.0</td>\n",
              "      <td>8.0</td>\n",
              "      <td>NaN</td>\n",
              "      <td>NaN</td>\n",
              "      <td>NaN</td>\n",
              "      <td>NaN</td>\n",
              "      <td>NaN</td>\n",
              "      <td>NaN</td>\n",
              "      <td>NaN</td>\n",
              "      <td>NaN</td>\n",
              "      <td>With a soft \"g,\" like \"jiff\"</td>\n",
              "      <td>NaN</td>\n",
              "      <td>NaN</td>\n",
              "      <td>NaN</td>\n",
              "      <td>NaN</td>\n",
              "      <td>NaN</td>\n",
              "      <td>NaN</td>\n",
              "      <td>NaN</td>\n",
              "      <td>NaN</td>\n",
              "      <td>NaN</td>\n",
              "      <td>NaN</td>\n",
              "      <td>NaN</td>\n",
              "      <td>...</td>\n",
              "      <td>Satisfied</td>\n",
              "      <td>NaN</td>\n",
              "      <td>NaN</td>\n",
              "      <td>NaN</td>\n",
              "      <td>NaN</td>\n",
              "      <td>NaN</td>\n",
              "      <td>NaN</td>\n",
              "      <td>NaN</td>\n",
              "      <td>NaN</td>\n",
              "      <td>NaN</td>\n",
              "      <td>NaN</td>\n",
              "      <td>NaN</td>\n",
              "      <td>NaN</td>\n",
              "      <td>NaN</td>\n",
              "      <td>NaN</td>\n",
              "      <td>NaN</td>\n",
              "      <td>NaN</td>\n",
              "      <td>NaN</td>\n",
              "      <td>NaN</td>\n",
              "      <td>NaN</td>\n",
              "      <td>NaN</td>\n",
              "      <td>NaN</td>\n",
              "      <td>NaN</td>\n",
              "      <td>NaN</td>\n",
              "      <td>NaN</td>\n",
              "      <td>NaN</td>\n",
              "      <td>NaN</td>\n",
              "      <td>NaN</td>\n",
              "      <td>NaN</td>\n",
              "      <td>NaN</td>\n",
              "      <td>NaN</td>\n",
              "      <td>NaN</td>\n",
              "      <td>NaN</td>\n",
              "      <td>NaN</td>\n",
              "      <td>NaN</td>\n",
              "      <td>NaN</td>\n",
              "      <td>NaN</td>\n",
              "      <td>NaN</td>\n",
              "      <td>NaN</td>\n",
              "      <td>NaN</td>\n",
              "    </tr>\n",
              "  </tbody>\n",
              "</table>\n",
              "<p>5 rows × 154 columns</p>\n",
              "</div>"
            ],
            "text/plain": [
              "   Respondent  ... ExpectedSalary\n",
              "0           1  ...            NaN\n",
              "1           2  ...        37500.0\n",
              "2           3  ...            NaN\n",
              "3           4  ...            NaN\n",
              "4           5  ...            NaN\n",
              "\n",
              "[5 rows x 154 columns]"
            ]
          },
          "metadata": {
            "tags": []
          },
          "execution_count": 6
        }
      ]
    },
    {
      "cell_type": "markdown",
      "metadata": {
        "id": "A7Rzkg3v1Dof"
      },
      "source": [
        "As you work through the notebook(s) in this and future parts of this program, you will see some consistency in how to test your solutions to assure they match what we acheived!  In every environment, there is a solution file and a test file.  There will be checks for each solution built into each notebook, but if you get stuck, you may also open the solution notebook to see how we find any of the solutions.  Let's take a look at an example.\n",
        "\n",
        "<h3 id='q1'>Question 1</h3>\n",
        "\n",
        "**1.** Provide the number of rows and columns in this dataset."
      ]
    },
    {
      "cell_type": "code",
      "metadata": {
        "colab": {
          "base_uri": "https://localhost:8080/"
        },
        "id": "b8gRAvhb1Doh",
        "outputId": "6371c663-fd4b-48a4-f2f2-cb1b71676dcd"
      },
      "source": [
        "# We solved this one for you by providing the number of rows and columns:\n",
        "# You can see how we are prompted that we solved for the number of rows and cols correctly!\n",
        "\n",
        "num_rows = df.shape[0] #Provide the number of rows in the dataset\n",
        "num_cols = df.shape[1] #Provide the number of columns in the dataset\n",
        "\n",
        "t.check_rows_cols(num_rows, num_cols) "
      ],
      "execution_count": null,
      "outputs": [
        {
          "output_type": "stream",
          "text": [
            "Nice job there are 19102 rows in the dataset!\n",
            "Nice job there are 154 columns in the dataset!\n"
          ],
          "name": "stdout"
        }
      ]
    },
    {
      "cell_type": "code",
      "metadata": {
        "colab": {
          "base_uri": "https://localhost:8080/"
        },
        "id": "dfmo9que1Doj",
        "outputId": "a3f6b2ff-d6c5-4b70-9496-ab32c9b9ec61"
      },
      "source": [
        "# If we made a mistake - a different prompt will appear\n",
        "\n",
        "flipped_num_rows = df.shape[1] #Provide the number of rows in the dataset\n",
        "flipped_num_cols = df.shape[0] #Provide the number of columns in the dataset\n",
        "\n",
        "t.check_rows_cols(flipped_num_rows, flipped_num_cols) "
      ],
      "execution_count": null,
      "outputs": [
        {
          "output_type": "stream",
          "text": [
            "That doesn't look like what we were expecting for the number of rows.\n",
            "That doesn't look like what we were expecting for the number of columns.\n"
          ],
          "name": "stdout"
        }
      ]
    },
    {
      "cell_type": "code",
      "metadata": {
        "id": "0UIjeQgk1Dol"
      },
      "source": [
        "# If you want to know more about what the test function is expecting, \n",
        "# you can read the documentation the same way as any other funtion\n",
        "\n",
        "t.check_rows_cols?"
      ],
      "execution_count": null,
      "outputs": []
    },
    {
      "cell_type": "markdown",
      "metadata": {
        "id": "IDJU33-91Dom"
      },
      "source": [
        "Now that you are familiar with how to test your code - let's have you answer your first question:\n",
        "\n",
        "### Question 2\n",
        "\n",
        "**2.** Which columns had no missing values? Provide a set of column names that have no missing values."
      ]
    },
    {
      "cell_type": "code",
      "metadata": {
        "id": "ByDH28VH1Don",
        "colab": {
          "base_uri": "https://localhost:8080/",
          "height": 52
        },
        "outputId": "60621f87-0cd1-4225-91da-b011d56c05fd"
      },
      "source": [
        "no_nulls = set(df.columns[df.isnull().mean()==0])#Provide a set of columns with 0 missing values.\n",
        "\n",
        "t.no_null_cols(no_nulls)"
      ],
      "execution_count": null,
      "outputs": [
        {
          "output_type": "stream",
          "text": [
            "Nice job that looks right!\n"
          ],
          "name": "stdout"
        },
        {
          "output_type": "execute_result",
          "data": {
            "application/vnd.google.colaboratory.intrinsic+json": {
              "type": "string"
            },
            "text/plain": [
              "'<img src=\"https://bit.ly/2K9X0gD\">'"
            ]
          },
          "metadata": {
            "tags": []
          },
          "execution_count": 10
        }
      ]
    },
    {
      "cell_type": "markdown",
      "metadata": {
        "id": "dWXnhwc91Dop"
      },
      "source": [
        "### Question 3\n",
        "\n",
        "**3.** Which columns have the most missing values?  Provide a set of column name that have more than 75% if their values missing."
      ]
    },
    {
      "cell_type": "code",
      "metadata": {
        "id": "f_YCA5W71Doq",
        "colab": {
          "base_uri": "https://localhost:8080/"
        },
        "outputId": "fa7129ac-ad8d-4474-9823-f93b8222ede6"
      },
      "source": [
        "most_missing_cols = set(df.columns[df.isnull().mean() > 0.75])#Provide a set of columns with more than 75% of the values missing\n",
        "\n",
        "t.most_missing_cols(most_missing_cols)"
      ],
      "execution_count": null,
      "outputs": [
        {
          "output_type": "stream",
          "text": [
            "Nice job that looks right!\n"
          ],
          "name": "stdout"
        }
      ]
    },
    {
      "cell_type": "markdown",
      "metadata": {
        "id": "1msvjeWD1Dos"
      },
      "source": [
        "### Question 4\n",
        "\n",
        "**4.** Provide a pandas series of the different **Professional** status values in the dataset.  Store this pandas series in **status_vals**.  If you are correct, you should see a bar chart of the proportion of individuals in each status."
      ]
    },
    {
      "cell_type": "code",
      "metadata": {
        "id": "4euKyX3n1Dot",
        "colab": {
          "base_uri": "https://localhost:8080/",
          "height": 549
        },
        "outputId": "52dfa4cf-6032-4167-be63-ca41d9c97431"
      },
      "source": [
        "status_vals = df.Professional.value_counts()#Provide a pandas series of the counts for each Professional status\n",
        "\n",
        "# The below should be a bar chart of the proportion of individuals in each professional category if your status_vals\n",
        "# is set up correctly.\n",
        "\n",
        "(status_vals/df.shape[0]).plot(kind=\"bar\");\n",
        "plt.title(\"What kind of developer are you?\");"
      ],
      "execution_count": null,
      "outputs": [
        {
          "output_type": "display_data",
          "data": {
            "image/png": "[encoded data removed]",
            "text/plain": [
              "<Figure size 432x288 with 1 Axes>"
            ]
          },
          "metadata": {
            "tags": [],
            "needs_background": "light"
          }
        }
      ]
    },
    {
      "cell_type": "markdown",
      "metadata": {
        "id": "pRuiPGbN1Dou"
      },
      "source": [
        "### Question 5\n",
        "\n",
        "**5.** Provide a pandas series of the different **FormalEducation** status values in the dataset.  Store this pandas series in **ed_vals**.  If you are correct, you should see a bar chart of the proportion of individuals in each status."
      ]
    },
    {
      "cell_type": "code",
      "metadata": {
        "id": "urGXVUs-1Dov",
        "colab": {
          "base_uri": "https://localhost:8080/",
          "height": 606
        },
        "outputId": "3541e7e5-6ace-49e2-9400-d3f0e9744c17"
      },
      "source": [
        "ed_vals = df.FormalEducation.value_counts()#Provide a pandas series of the counts for each FormalEducation status\n",
        "\n",
        "# The below should be a bar chart of the proportion of individuals in your ed_vals\n",
        "# if it is set up correctly.\n",
        "\n",
        "(ed_vals/df.shape[0]).plot(kind=\"bar\");\n",
        "plt.title(\"Formal Education\");"
      ],
      "execution_count": null,
      "outputs": [
        {
          "output_type": "display_data",
          "data": {
            "image/png": "[encoded data removed]",
            "text/plain": [
              "<Figure size 432x288 with 1 Axes>"
            ]
          },
          "metadata": {
            "tags": [],
            "needs_background": "light"
          }
        }
      ]
    },
    {
      "cell_type": "markdown",
      "metadata": {
        "id": "RfHook9l1Dow"
      },
      "source": [
        "### Question 6\n",
        "\n",
        "**6.** Provide a pandas series of the different **Country** values in the dataset.  Store this pandas series in **count_vals**.  If you are correct, you should see a bar chart of the proportion of individuals in each country."
      ]
    },
    {
      "cell_type": "code",
      "metadata": {
        "id": "bG2OZnNH1Dox",
        "colab": {
          "base_uri": "https://localhost:8080/",
          "height": 352
        },
        "outputId": "cdc5c9d6-651d-4ac3-b8b7-42a5405c44bc"
      },
      "source": [
        "count_vals = df.Country.value_counts()#Provide a pandas series of the counts for each Country\n",
        "\n",
        "# The below should be a bar chart of the proportion of the top 10 countries for the\n",
        "# individuals in your count_vals if it is set up correctly.\n",
        "\n",
        "(count_vals[:10]/df.shape[0]).plot(kind=\"bar\");\n",
        "plt.title(\"Country\");"
      ],
      "execution_count": null,
      "outputs": [
        {
          "output_type": "display_data",
          "data": {
            "image/png": "[encoded data removed]",
            "text/plain": [
              "<Figure size 432x288 with 1 Axes>"
            ]
          },
          "metadata": {
            "tags": [],
            "needs_background": "light"
          }
        }
      ]
    },
    {
      "cell_type": "markdown",
      "metadata": {
        "id": "c3M7AAlP1Doy"
      },
      "source": [
        "Feel free to explore the dataset further to gain additional familiarity with the columns and rows in the dataset.  You will be working pretty closely with this dataset throughout this lesson."
      ]
    },
    {
      "cell_type": "code",
      "metadata": {
        "id": "CO0nT5Jm1Doz",
        "colab": {
          "base_uri": "https://localhost:8080/",
          "height": 550
        },
        "outputId": "42638ce2-84e8-4a96-8f13-bddc43c8f4f7"
      },
      "source": [
        "pd.DataFrame(df.query(\"Professional == 'Professional developer' and (Gender == 'Male' or Gender == 'Female')\").groupby(['Gender', 'FormalEducation']).mean()['Salary'])"
      ],
      "execution_count": null,
      "outputs": [
        {
          "output_type": "execute_result",
          "data": {
            "text/html": [
              "<div>\n",
              "<style scoped>\n",
              "    .dataframe tbody tr th:only-of-type {\n",
              "        vertical-align: middle;\n",
              "    }\n",
              "\n",
              "    .dataframe tbody tr th {\n",
              "        vertical-align: top;\n",
              "    }\n",
              "\n",
              "    .dataframe thead th {\n",
              "        text-align: right;\n",
              "    }\n",
              "</style>\n",
              "<table border=\"1\" class=\"dataframe\">\n",
              "  <thead>\n",
              "    <tr style=\"text-align: right;\">\n",
              "      <th></th>\n",
              "      <th></th>\n",
              "      <th>Salary</th>\n",
              "    </tr>\n",
              "    <tr>\n",
              "      <th>Gender</th>\n",
              "      <th>FormalEducation</th>\n",
              "      <th></th>\n",
              "    </tr>\n",
              "  </thead>\n",
              "  <tbody>\n",
              "    <tr>\n",
              "      <th rowspan=\"7\" valign=\"top\">Female</th>\n",
              "      <th>Bachelor's degree</th>\n",
              "      <td>59901.894205</td>\n",
              "    </tr>\n",
              "    <tr>\n",
              "      <th>Doctoral degree</th>\n",
              "      <td>83332.583351</td>\n",
              "    </tr>\n",
              "    <tr>\n",
              "      <th>I prefer not to answer</th>\n",
              "      <td>20691.397849</td>\n",
              "    </tr>\n",
              "    <tr>\n",
              "      <th>Master's degree</th>\n",
              "      <td>51395.305901</td>\n",
              "    </tr>\n",
              "    <tr>\n",
              "      <th>Professional degree</th>\n",
              "      <td>67521.095365</td>\n",
              "    </tr>\n",
              "    <tr>\n",
              "      <th>Secondary school</th>\n",
              "      <td>38673.862023</td>\n",
              "    </tr>\n",
              "    <tr>\n",
              "      <th>Some college/university study without earning a bachelor's degree</th>\n",
              "      <td>45149.521658</td>\n",
              "    </tr>\n",
              "    <tr>\n",
              "      <th rowspan=\"9\" valign=\"top\">Male</th>\n",
              "      <th>Bachelor's degree</th>\n",
              "      <td>59538.372951</td>\n",
              "    </tr>\n",
              "    <tr>\n",
              "      <th>Doctoral degree</th>\n",
              "      <td>77120.265378</td>\n",
              "    </tr>\n",
              "    <tr>\n",
              "      <th>I never completed any formal education</th>\n",
              "      <td>43956.636637</td>\n",
              "    </tr>\n",
              "    <tr>\n",
              "      <th>I prefer not to answer</th>\n",
              "      <td>40850.596080</td>\n",
              "    </tr>\n",
              "    <tr>\n",
              "      <th>Master's degree</th>\n",
              "      <td>61632.442196</td>\n",
              "    </tr>\n",
              "    <tr>\n",
              "      <th>Primary/elementary school</th>\n",
              "      <td>64022.483103</td>\n",
              "    </tr>\n",
              "    <tr>\n",
              "      <th>Professional degree</th>\n",
              "      <td>45662.824726</td>\n",
              "    </tr>\n",
              "    <tr>\n",
              "      <th>Secondary school</th>\n",
              "      <td>39544.122310</td>\n",
              "    </tr>\n",
              "    <tr>\n",
              "      <th>Some college/university study without earning a bachelor's degree</th>\n",
              "      <td>60420.217368</td>\n",
              "    </tr>\n",
              "  </tbody>\n",
              "</table>\n",
              "</div>"
            ],
            "text/plain": [
              "                                                                 Salary\n",
              "Gender FormalEducation                                                 \n",
              "Female Bachelor's degree                                   59901.894205\n",
              "       Doctoral degree                                     83332.583351\n",
              "       I prefer not to answer                              20691.397849\n",
              "       Master's degree                                     51395.305901\n",
              "       Professional degree                                 67521.095365\n",
              "       Secondary school                                    38673.862023\n",
              "       Some college/university study without earning a...  45149.521658\n",
              "Male   Bachelor's degree                                   59538.372951\n",
              "       Doctoral degree                                     77120.265378\n",
              "       I never completed any formal education              43956.636637\n",
              "       I prefer not to answer                              40850.596080\n",
              "       Master's degree                                     61632.442196\n",
              "       Primary/elementary school                           64022.483103\n",
              "       Professional degree                                 45662.824726\n",
              "       Secondary school                                    39544.122310\n",
              "       Some college/university study without earning a...  60420.217368"
            ]
          },
          "metadata": {
            "tags": []
          },
          "execution_count": 14
        }
      ]
    },
    {
      "cell_type": "code",
      "metadata": {
        "id": "73LtvfE91Do0"
      },
      "source": [
        ""
      ],
      "execution_count": null,
      "outputs": []
    }
  ]
}